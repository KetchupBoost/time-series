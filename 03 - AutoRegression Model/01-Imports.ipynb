{
 "cells": [
  {
   "cell_type": "markdown",
   "source": [
    "**Importing Packages**"
   ],
   "metadata": {
    "collapsed": false
   }
  },
  {
   "cell_type": "code",
   "execution_count": 23,
   "outputs": [
    {
     "name": "stdout",
     "output_type": "stream",
     "text": [
      "Requirement already satisfied: yahoo_fin in d:\\progams\\anaconda\\envs\\timeseries\\lib\\site-packages (0.8.9.1)\n",
      "Requirement already satisfied: requests-html in d:\\progams\\anaconda\\envs\\timeseries\\lib\\site-packages (from yahoo_fin) (0.10.0)\n",
      "Requirement already satisfied: requests in d:\\progams\\anaconda\\envs\\timeseries\\lib\\site-packages (from yahoo_fin) (2.28.1)\n",
      "Requirement already satisfied: feedparser in d:\\progams\\anaconda\\envs\\timeseries\\lib\\site-packages (from yahoo_fin) (6.0.10)\n",
      "Requirement already satisfied: pandas in d:\\progams\\anaconda\\envs\\timeseries\\lib\\site-packages (from yahoo_fin) (1.5.2)\n",
      "Requirement already satisfied: sgmllib3k in d:\\progams\\anaconda\\envs\\timeseries\\lib\\site-packages (from feedparser->yahoo_fin) (1.0.0)\n",
      "Requirement already satisfied: numpy>=1.21.0 in d:\\progams\\anaconda\\envs\\timeseries\\lib\\site-packages (from pandas->yahoo_fin) (1.23.5)\n",
      "Requirement already satisfied: pytz>=2020.1 in d:\\progams\\anaconda\\envs\\timeseries\\lib\\site-packages (from pandas->yahoo_fin) (2022.1)\n",
      "Requirement already satisfied: python-dateutil>=2.8.1 in d:\\progams\\anaconda\\envs\\timeseries\\lib\\site-packages (from pandas->yahoo_fin) (2.8.2)\n",
      "Requirement already satisfied: certifi>=2017.4.17 in d:\\progams\\anaconda\\envs\\timeseries\\lib\\site-packages (from requests->yahoo_fin) (2022.9.24)\n",
      "Requirement already satisfied: urllib3<1.27,>=1.21.1 in d:\\progams\\anaconda\\envs\\timeseries\\lib\\site-packages (from requests->yahoo_fin) (1.26.12)\n",
      "Requirement already satisfied: charset-normalizer<3,>=2 in d:\\progams\\anaconda\\envs\\timeseries\\lib\\site-packages (from requests->yahoo_fin) (2.0.4)\n",
      "Requirement already satisfied: idna<4,>=2.5 in d:\\progams\\anaconda\\envs\\timeseries\\lib\\site-packages (from requests->yahoo_fin) (3.4)\n",
      "Requirement already satisfied: parse in d:\\progams\\anaconda\\envs\\timeseries\\lib\\site-packages (from requests-html->yahoo_fin) (1.19.0)\n",
      "Requirement already satisfied: pyquery in d:\\progams\\anaconda\\envs\\timeseries\\lib\\site-packages (from requests-html->yahoo_fin) (1.4.3)\n",
      "Requirement already satisfied: bs4 in d:\\progams\\anaconda\\envs\\timeseries\\lib\\site-packages (from requests-html->yahoo_fin) (0.0.1)\n",
      "Requirement already satisfied: w3lib in d:\\progams\\anaconda\\envs\\timeseries\\lib\\site-packages (from requests-html->yahoo_fin) (2.1.0)\n",
      "Requirement already satisfied: pyppeteer>=0.0.14 in d:\\progams\\anaconda\\envs\\timeseries\\lib\\site-packages (from requests-html->yahoo_fin) (1.0.2)\n",
      "Requirement already satisfied: fake-useragent in d:\\progams\\anaconda\\envs\\timeseries\\lib\\site-packages (from requests-html->yahoo_fin) (1.1.0)\n",
      "Requirement already satisfied: tqdm<5.0.0,>=4.42.1 in d:\\progams\\anaconda\\envs\\timeseries\\lib\\site-packages (from pyppeteer>=0.0.14->requests-html->yahoo_fin) (4.64.1)\n",
      "Requirement already satisfied: pyee<9.0.0,>=8.1.0 in d:\\progams\\anaconda\\envs\\timeseries\\lib\\site-packages (from pyppeteer>=0.0.14->requests-html->yahoo_fin) (8.2.2)\n",
      "Requirement already satisfied: websockets<11.0,>=10.0 in d:\\progams\\anaconda\\envs\\timeseries\\lib\\site-packages (from pyppeteer>=0.0.14->requests-html->yahoo_fin) (10.4)\n",
      "Requirement already satisfied: importlib-metadata>=1.4 in d:\\progams\\anaconda\\envs\\timeseries\\lib\\site-packages (from pyppeteer>=0.0.14->requests-html->yahoo_fin) (5.1.0)\n",
      "Requirement already satisfied: appdirs<2.0.0,>=1.4.3 in d:\\progams\\anaconda\\envs\\timeseries\\lib\\site-packages (from pyppeteer>=0.0.14->requests-html->yahoo_fin) (1.4.4)\n",
      "Requirement already satisfied: six>=1.5 in d:\\progams\\anaconda\\envs\\timeseries\\lib\\site-packages (from python-dateutil>=2.8.1->pandas->yahoo_fin) (1.16.0)\n",
      "Requirement already satisfied: beautifulsoup4 in d:\\progams\\anaconda\\envs\\timeseries\\lib\\site-packages (from bs4->requests-html->yahoo_fin) (4.11.1)\n",
      "Requirement already satisfied: lxml>=2.1 in d:\\progams\\anaconda\\envs\\timeseries\\lib\\site-packages (from pyquery->requests-html->yahoo_fin) (4.9.1)\n",
      "Requirement already satisfied: cssselect>0.7.9 in d:\\progams\\anaconda\\envs\\timeseries\\lib\\site-packages (from pyquery->requests-html->yahoo_fin) (1.2.0)\n",
      "Requirement already satisfied: zipp>=0.5 in d:\\progams\\anaconda\\envs\\timeseries\\lib\\site-packages (from importlib-metadata>=1.4->pyppeteer>=0.0.14->requests-html->yahoo_fin) (3.11.0)\n",
      "Requirement already satisfied: colorama in d:\\progams\\anaconda\\envs\\timeseries\\lib\\site-packages (from tqdm<5.0.0,>=4.42.1->pyppeteer>=0.0.14->requests-html->yahoo_fin) (0.4.5)\n",
      "Requirement already satisfied: soupsieve>1.2 in d:\\progams\\anaconda\\envs\\timeseries\\lib\\site-packages (from beautifulsoup4->bs4->requests-html->yahoo_fin) (2.3.2.post1)\n",
      "Requirement already satisfied: requests_html in d:\\progams\\anaconda\\envs\\timeseries\\lib\\site-packages (0.10.0)\n",
      "Requirement already satisfied: bs4 in d:\\progams\\anaconda\\envs\\timeseries\\lib\\site-packages (from requests_html) (0.0.1)\n",
      "Requirement already satisfied: pyppeteer>=0.0.14 in d:\\progams\\anaconda\\envs\\timeseries\\lib\\site-packages (from requests_html) (1.0.2)\n",
      "Requirement already satisfied: parse in d:\\progams\\anaconda\\envs\\timeseries\\lib\\site-packages (from requests_html) (1.19.0)\n",
      "Requirement already satisfied: fake-useragent in d:\\progams\\anaconda\\envs\\timeseries\\lib\\site-packages (from requests_html) (1.1.0)\n",
      "Requirement already satisfied: pyquery in d:\\progams\\anaconda\\envs\\timeseries\\lib\\site-packages (from requests_html) (1.4.3)\n",
      "Requirement already satisfied: w3lib in d:\\progams\\anaconda\\envs\\timeseries\\lib\\site-packages (from requests_html) (2.1.0)\n",
      "Requirement already satisfied: requests in d:\\progams\\anaconda\\envs\\timeseries\\lib\\site-packages (from requests_html) (2.28.1)\n",
      "Requirement already satisfied: importlib-metadata>=1.4 in d:\\progams\\anaconda\\envs\\timeseries\\lib\\site-packages (from pyppeteer>=0.0.14->requests_html) (5.1.0)\n",
      "Requirement already satisfied: tqdm<5.0.0,>=4.42.1 in d:\\progams\\anaconda\\envs\\timeseries\\lib\\site-packages (from pyppeteer>=0.0.14->requests_html) (4.64.1)\n",
      "Requirement already satisfied: urllib3<2.0.0,>=1.25.8 in d:\\progams\\anaconda\\envs\\timeseries\\lib\\site-packages (from pyppeteer>=0.0.14->requests_html) (1.26.12)\n",
      "Requirement already satisfied: appdirs<2.0.0,>=1.4.3 in d:\\progams\\anaconda\\envs\\timeseries\\lib\\site-packages (from pyppeteer>=0.0.14->requests_html) (1.4.4)\n",
      "Requirement already satisfied: certifi>=2021 in d:\\progams\\anaconda\\envs\\timeseries\\lib\\site-packages (from pyppeteer>=0.0.14->requests_html) (2022.9.24)\n",
      "Requirement already satisfied: pyee<9.0.0,>=8.1.0 in d:\\progams\\anaconda\\envs\\timeseries\\lib\\site-packages (from pyppeteer>=0.0.14->requests_html) (8.2.2)\n",
      "Requirement already satisfied: websockets<11.0,>=10.0 in d:\\progams\\anaconda\\envs\\timeseries\\lib\\site-packages (from pyppeteer>=0.0.14->requests_html) (10.4)\n",
      "Requirement already satisfied: beautifulsoup4 in d:\\progams\\anaconda\\envs\\timeseries\\lib\\site-packages (from bs4->requests_html) (4.11.1)\n",
      "Requirement already satisfied: lxml>=2.1 in d:\\progams\\anaconda\\envs\\timeseries\\lib\\site-packages (from pyquery->requests_html) (4.9.1)\n",
      "Requirement already satisfied: cssselect>0.7.9 in d:\\progams\\anaconda\\envs\\timeseries\\lib\\site-packages (from pyquery->requests_html) (1.2.0)\n",
      "Requirement already satisfied: charset-normalizer<3,>=2 in d:\\progams\\anaconda\\envs\\timeseries\\lib\\site-packages (from requests->requests_html) (2.0.4)\n",
      "Requirement already satisfied: idna<4,>=2.5 in d:\\progams\\anaconda\\envs\\timeseries\\lib\\site-packages (from requests->requests_html) (3.4)\n",
      "Requirement already satisfied: zipp>=0.5 in d:\\progams\\anaconda\\envs\\timeseries\\lib\\site-packages (from importlib-metadata>=1.4->pyppeteer>=0.0.14->requests_html) (3.11.0)\n",
      "Requirement already satisfied: colorama in d:\\progams\\anaconda\\envs\\timeseries\\lib\\site-packages (from tqdm<5.0.0,>=4.42.1->pyppeteer>=0.0.14->requests_html) (0.4.5)\n",
      "Requirement already satisfied: soupsieve>1.2 in d:\\progams\\anaconda\\envs\\timeseries\\lib\\site-packages (from beautifulsoup4->bs4->requests_html) (2.3.2.post1)\n",
      "Collecting pandas_datareader\n",
      "  Downloading pandas_datareader-0.10.0-py3-none-any.whl (109 kB)\n",
      "     ------------------------------------ 109.5/109.5 kB 793.8 kB/s eta 0:00:00\n",
      "Requirement already satisfied: pandas>=0.23 in d:\\progams\\anaconda\\envs\\timeseries\\lib\\site-packages (from pandas_datareader) (1.5.2)\n",
      "Requirement already satisfied: lxml in d:\\progams\\anaconda\\envs\\timeseries\\lib\\site-packages (from pandas_datareader) (4.9.1)\n",
      "Requirement already satisfied: requests>=2.19.0 in d:\\progams\\anaconda\\envs\\timeseries\\lib\\site-packages (from pandas_datareader) (2.28.1)\n",
      "Requirement already satisfied: pytz>=2020.1 in d:\\progams\\anaconda\\envs\\timeseries\\lib\\site-packages (from pandas>=0.23->pandas_datareader) (2022.1)\n",
      "Requirement already satisfied: numpy>=1.21.0 in d:\\progams\\anaconda\\envs\\timeseries\\lib\\site-packages (from pandas>=0.23->pandas_datareader) (1.23.5)\n",
      "Requirement already satisfied: python-dateutil>=2.8.1 in d:\\progams\\anaconda\\envs\\timeseries\\lib\\site-packages (from pandas>=0.23->pandas_datareader) (2.8.2)\n",
      "Requirement already satisfied: urllib3<1.27,>=1.21.1 in d:\\progams\\anaconda\\envs\\timeseries\\lib\\site-packages (from requests>=2.19.0->pandas_datareader) (1.26.12)\n",
      "Requirement already satisfied: idna<4,>=2.5 in d:\\progams\\anaconda\\envs\\timeseries\\lib\\site-packages (from requests>=2.19.0->pandas_datareader) (3.4)\n",
      "Requirement already satisfied: charset-normalizer<3,>=2 in d:\\progams\\anaconda\\envs\\timeseries\\lib\\site-packages (from requests>=2.19.0->pandas_datareader) (2.0.4)\n",
      "Requirement already satisfied: certifi>=2017.4.17 in d:\\progams\\anaconda\\envs\\timeseries\\lib\\site-packages (from requests>=2.19.0->pandas_datareader) (2022.9.24)\n",
      "Requirement already satisfied: six>=1.5 in d:\\progams\\anaconda\\envs\\timeseries\\lib\\site-packages (from python-dateutil>=2.8.1->pandas>=0.23->pandas_datareader) (1.16.0)\n",
      "Installing collected packages: pandas_datareader\n",
      "Successfully installed pandas_datareader-0.10.0\n"
     ]
    }
   ],
   "source": [
    "!pip install yahoo_fin\n",
    "!pip install requests_html\n",
    "!pip install pandas_datareader"
   ],
   "metadata": {
    "collapsed": false
   }
  },
  {
   "cell_type": "code",
   "execution_count": 24,
   "outputs": [
    {
     "name": "stdout",
     "output_type": "stream",
     "text": [
      "Requirement already satisfied: statsmodels in d:\\progams\\anaconda\\envs\\timeseries\\lib\\site-packages (0.13.5)\n",
      "Requirement already satisfied: scipy>=1.3 in d:\\progams\\anaconda\\envs\\timeseries\\lib\\site-packages (from statsmodels) (1.9.3)\n",
      "Requirement already satisfied: numpy>=1.22.3 in d:\\progams\\anaconda\\envs\\timeseries\\lib\\site-packages (from statsmodels) (1.23.5)\n",
      "Requirement already satisfied: pandas>=0.25 in d:\\progams\\anaconda\\envs\\timeseries\\lib\\site-packages (from statsmodels) (1.5.2)\n",
      "Requirement already satisfied: patsy>=0.5.2 in d:\\progams\\anaconda\\envs\\timeseries\\lib\\site-packages (from statsmodels) (0.5.3)\n",
      "Requirement already satisfied: packaging>=21.3 in d:\\progams\\anaconda\\envs\\timeseries\\lib\\site-packages (from statsmodels) (21.3)\n",
      "Requirement already satisfied: pyparsing!=3.0.5,>=2.0.2 in d:\\progams\\anaconda\\envs\\timeseries\\lib\\site-packages (from packaging>=21.3->statsmodels) (3.0.9)\n",
      "Requirement already satisfied: pytz>=2020.1 in d:\\progams\\anaconda\\envs\\timeseries\\lib\\site-packages (from pandas>=0.25->statsmodels) (2022.1)\n",
      "Requirement already satisfied: python-dateutil>=2.8.1 in d:\\progams\\anaconda\\envs\\timeseries\\lib\\site-packages (from pandas>=0.25->statsmodels) (2.8.2)\n",
      "Requirement already satisfied: six in d:\\progams\\anaconda\\envs\\timeseries\\lib\\site-packages (from patsy>=0.5.2->statsmodels) (1.16.0)\n"
     ]
    }
   ],
   "source": [
    "!pip install statsmodels"
   ],
   "metadata": {
    "collapsed": false
   }
  },
  {
   "cell_type": "code",
   "execution_count": null,
   "outputs": [],
   "source": [],
   "metadata": {
    "collapsed": false
   }
  }
 ],
 "metadata": {
  "kernelspec": {
   "display_name": "Python 3",
   "language": "python",
   "name": "python3"
  },
  "language_info": {
   "codemirror_mode": {
    "name": "ipython",
    "version": 2
   },
   "file_extension": ".py",
   "mimetype": "text/x-python",
   "name": "python",
   "nbconvert_exporter": "python",
   "pygments_lexer": "ipython2",
   "version": "2.7.6"
  }
 },
 "nbformat": 4,
 "nbformat_minor": 0
}
