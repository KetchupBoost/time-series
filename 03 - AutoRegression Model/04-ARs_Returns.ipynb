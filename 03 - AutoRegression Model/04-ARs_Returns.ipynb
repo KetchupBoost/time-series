{
 "cells": [
  {
   "cell_type": "code",
   "execution_count": 2,
   "outputs": [],
   "source": [
    "import pandas as pd\n",
    "import numpy as np\n",
    "import seaborn as sns\n",
    "import matplotlib.pyplot as plt\n",
    "import statsmodels.graphics.tsaplots as stats_graph_tsa\n",
    "import statsmodels.tsa.stattools as stat_tsa_stats\n",
    "import statsmodels.api as sm\n",
    "from statsmodels.tsa.arima.model import ARIMA\n",
    "from pandas_datareader import data as wb\n",
    "from scipy.stats.distributions import chi2\n",
    "from datetime import datetime\n",
    "\n",
    "sns.set()"
   ],
   "metadata": {
    "collapsed": false
   }
  },
  {
   "cell_type": "markdown",
   "source": [
    "**Treating Data**"
   ],
   "metadata": {
    "collapsed": false
   }
  },
  {
   "cell_type": "code",
   "execution_count": 3,
   "outputs": [
    {
     "name": "stderr",
     "output_type": "stream",
     "text": [
      "C:\\Users\\Yago\\AppData\\Local\\Temp\\ipykernel_23356\\378421315.py:16: SettingWithCopyWarning: \n",
      "A value is trying to be set on a copy of a slice from a DataFrame.\n",
      "Try using .loc[row_indexer,col_indexer] = value instead\n",
      "\n",
      "See the caveats in the documentation: https://pandas.pydata.org/pandas-docs/stable/user_guide/indexing.html#returning-a-view-versus-a-copy\n",
      "  df['returns'] = df.market_value.pct_change(1).mul(100)\n"
     ]
    }
   ],
   "source": [
    "raw_csv_data = pd.read_csv('../01 - Intro/IndexE8.csv')\n",
    "df_complete = raw_csv_data.copy()\n",
    "df_complete['market_value'] = df_complete.ftse\n",
    "df_complete.date = pd.to_datetime(df_complete.date, dayfirst = True)\n",
    "df_complete.date = df_complete.set_index('date', inplace = True)\n",
    "df_complete = df_complete.asfreq('b')\n",
    "df_complete = df_complete.fillna(method = 'ffill')\n",
    "del df_complete['dax']\n",
    "del df_complete['ftse']\n",
    "del df_complete['nikkei']\n",
    "del df_complete['spx']\n",
    "size = int(len(df_complete) * 0.8)\n",
    "df, df_test = df_complete.iloc[:size], df_complete.iloc[size:]\n",
    "\n",
    "''' Defining the return column '''\n",
    "df['returns'] = df.market_value.pct_change(1).mul(100)\n",
    "df = df.iloc[1:]"
   ],
   "metadata": {
    "collapsed": false
   }
  },
  {
   "cell_type": "code",
   "execution_count": 4,
   "outputs": [],
   "source": [
    "def LLR_Test (mod_1, mod_2, DF = 1):\n",
    "    L1 = mod_1.fit().llf\n",
    "    L2 = mod_2.fit().llf\n",
    "\n",
    "    LR = (2 * (L2 - L1))\n",
    "    pvalue = chi2.sf(LR, DF).round(4)\n",
    "\n",
    "    return pvalue"
   ],
   "metadata": {
    "collapsed": false
   }
  },
  {
   "cell_type": "markdown",
   "source": [
    "**AR(1) Simple for Return**"
   ],
   "metadata": {
    "collapsed": false
   }
  },
  {
   "cell_type": "code",
   "execution_count": 5,
   "outputs": [
    {
     "data": {
      "text/plain": "<class 'statsmodels.iolib.summary.Summary'>\n\"\"\"\n                               SARIMAX Results                                \n==============================================================================\nDep. Variable:                returns   No. Observations:                 5020\nModel:                 ARIMA(1, 0, 0)   Log Likelihood               -7929.749\nDate:                Thu, 08 Dec 2022   AIC                          15865.497\nTime:                        11:13:05   BIC                          15885.061\nSample:                    01-10-1994   HQIC                         15872.353\n                         - 04-05-2013                                         \nCovariance Type:                  opg                                         \n==============================================================================\n                 coef    std err          z      P>|z|      [0.025      0.975]\n------------------------------------------------------------------------------\nconst          0.0188      0.016      1.143      0.253      -0.013       0.051\nar.L1         -0.0230      0.009     -2.697      0.007      -0.040      -0.006\nsigma2         1.3790      0.014    100.092      0.000       1.352       1.406\n===================================================================================\nLjung-Box (L1) (Q):                   0.01   Jarque-Bera (JB):              7872.72\nProb(Q):                              0.93   Prob(JB):                         0.00\nHeteroskedasticity (H):               2.04   Skew:                            -0.03\nProb(H) (two-sided):                  0.00   Kurtosis:                         9.13\n===================================================================================\n\nWarnings:\n[1] Covariance matrix calculated using the outer product of gradients (complex-step).\n\"\"\"",
      "text/html": "<table class=\"simpletable\">\n<caption>SARIMAX Results</caption>\n<tr>\n  <th>Dep. Variable:</th>        <td>returns</td>     <th>  No. Observations:  </th>   <td>5020</td>   \n</tr>\n<tr>\n  <th>Model:</th>            <td>ARIMA(1, 0, 0)</td>  <th>  Log Likelihood     </th> <td>-7929.749</td>\n</tr>\n<tr>\n  <th>Date:</th>            <td>Thu, 08 Dec 2022</td> <th>  AIC                </th> <td>15865.497</td>\n</tr>\n<tr>\n  <th>Time:</th>                <td>11:13:05</td>     <th>  BIC                </th> <td>15885.061</td>\n</tr>\n<tr>\n  <th>Sample:</th>             <td>01-10-1994</td>    <th>  HQIC               </th> <td>15872.353</td>\n</tr>\n<tr>\n  <th></th>                   <td>- 04-05-2013</td>   <th>                     </th>     <td> </td>    \n</tr>\n<tr>\n  <th>Covariance Type:</th>        <td>opg</td>       <th>                     </th>     <td> </td>    \n</tr>\n</table>\n<table class=\"simpletable\">\n<tr>\n     <td></td>       <th>coef</th>     <th>std err</th>      <th>z</th>      <th>P>|z|</th>  <th>[0.025</th>    <th>0.975]</th>  \n</tr>\n<tr>\n  <th>const</th>  <td>    0.0188</td> <td>    0.016</td> <td>    1.143</td> <td> 0.253</td> <td>   -0.013</td> <td>    0.051</td>\n</tr>\n<tr>\n  <th>ar.L1</th>  <td>   -0.0230</td> <td>    0.009</td> <td>   -2.697</td> <td> 0.007</td> <td>   -0.040</td> <td>   -0.006</td>\n</tr>\n<tr>\n  <th>sigma2</th> <td>    1.3790</td> <td>    0.014</td> <td>  100.092</td> <td> 0.000</td> <td>    1.352</td> <td>    1.406</td>\n</tr>\n</table>\n<table class=\"simpletable\">\n<tr>\n  <th>Ljung-Box (L1) (Q):</th>     <td>0.01</td> <th>  Jarque-Bera (JB):  </th> <td>7872.72</td>\n</tr>\n<tr>\n  <th>Prob(Q):</th>                <td>0.93</td> <th>  Prob(JB):          </th>  <td>0.00</td>  \n</tr>\n<tr>\n  <th>Heteroskedasticity (H):</th> <td>2.04</td> <th>  Skew:              </th>  <td>-0.03</td> \n</tr>\n<tr>\n  <th>Prob(H) (two-sided):</th>    <td>0.00</td> <th>  Kurtosis:          </th>  <td>9.13</td>  \n</tr>\n</table><br/><br/>Warnings:<br/>[1] Covariance matrix calculated using the outer product of gradients (complex-step)."
     },
     "execution_count": 5,
     "metadata": {},
     "output_type": "execute_result"
    }
   ],
   "source": [
    "'''\n",
    "    The P values of both parameters are over .05, meaning that neither is significantly different from 0\n",
    "    In conclusion, in this case the model holds no real predictive power.\n",
    "    The more easily yesterday price is affected by higher lags, the more inaccurate its coefficient becomes.\n",
    "'''\n",
    "mod_ret_ar_1 = ARIMA(df.returns, order = (1, 0, 0))\n",
    "res_ret_ar_1 = mod_ret_ar_1.fit()\n",
    "res_ret_ar_1.summary()"
   ],
   "metadata": {
    "collapsed": false
   }
  },
  {
   "cell_type": "markdown",
   "source": [
    "**Higher-Lag AR Models for Return**"
   ],
   "metadata": {
    "collapsed": false
   }
  },
  {
   "cell_type": "code",
   "execution_count": 6,
   "outputs": [
    {
     "data": {
      "text/plain": "<class 'statsmodels.iolib.summary.Summary'>\n\"\"\"\n                               SARIMAX Results                                \n==============================================================================\nDep. Variable:                returns   No. Observations:                 5020\nModel:                 ARIMA(2, 0, 0)   Log Likelihood               -7923.456\nDate:                Thu, 08 Dec 2022   AIC                          15854.911\nTime:                        11:13:06   BIC                          15880.996\nSample:                    01-10-1994   HQIC                         15864.052\n                         - 04-05-2013                                         \nCovariance Type:                  opg                                         \n==============================================================================\n                 coef    std err          z      P>|z|      [0.025      0.975]\n------------------------------------------------------------------------------\nconst          0.0188      0.016      1.194      0.233      -0.012       0.050\nar.L1         -0.0242      0.009     -2.799      0.005      -0.041      -0.007\nar.L2         -0.0500      0.008     -6.371      0.000      -0.065      -0.035\nsigma2         1.3756      0.014     99.592      0.000       1.348       1.403\n===================================================================================\nLjung-Box (L1) (Q):                   0.08   Jarque-Bera (JB):              7730.29\nProb(Q):                              0.77   Prob(JB):                         0.00\nHeteroskedasticity (H):               2.03   Skew:                            -0.06\nProb(H) (two-sided):                  0.00   Kurtosis:                         9.08\n===================================================================================\n\nWarnings:\n[1] Covariance matrix calculated using the outer product of gradients (complex-step).\n\"\"\"",
      "text/html": "<table class=\"simpletable\">\n<caption>SARIMAX Results</caption>\n<tr>\n  <th>Dep. Variable:</th>        <td>returns</td>     <th>  No. Observations:  </th>   <td>5020</td>   \n</tr>\n<tr>\n  <th>Model:</th>            <td>ARIMA(2, 0, 0)</td>  <th>  Log Likelihood     </th> <td>-7923.456</td>\n</tr>\n<tr>\n  <th>Date:</th>            <td>Thu, 08 Dec 2022</td> <th>  AIC                </th> <td>15854.911</td>\n</tr>\n<tr>\n  <th>Time:</th>                <td>11:13:06</td>     <th>  BIC                </th> <td>15880.996</td>\n</tr>\n<tr>\n  <th>Sample:</th>             <td>01-10-1994</td>    <th>  HQIC               </th> <td>15864.052</td>\n</tr>\n<tr>\n  <th></th>                   <td>- 04-05-2013</td>   <th>                     </th>     <td> </td>    \n</tr>\n<tr>\n  <th>Covariance Type:</th>        <td>opg</td>       <th>                     </th>     <td> </td>    \n</tr>\n</table>\n<table class=\"simpletable\">\n<tr>\n     <td></td>       <th>coef</th>     <th>std err</th>      <th>z</th>      <th>P>|z|</th>  <th>[0.025</th>    <th>0.975]</th>  \n</tr>\n<tr>\n  <th>const</th>  <td>    0.0188</td> <td>    0.016</td> <td>    1.194</td> <td> 0.233</td> <td>   -0.012</td> <td>    0.050</td>\n</tr>\n<tr>\n  <th>ar.L1</th>  <td>   -0.0242</td> <td>    0.009</td> <td>   -2.799</td> <td> 0.005</td> <td>   -0.041</td> <td>   -0.007</td>\n</tr>\n<tr>\n  <th>ar.L2</th>  <td>   -0.0500</td> <td>    0.008</td> <td>   -6.371</td> <td> 0.000</td> <td>   -0.065</td> <td>   -0.035</td>\n</tr>\n<tr>\n  <th>sigma2</th> <td>    1.3756</td> <td>    0.014</td> <td>   99.592</td> <td> 0.000</td> <td>    1.348</td> <td>    1.403</td>\n</tr>\n</table>\n<table class=\"simpletable\">\n<tr>\n  <th>Ljung-Box (L1) (Q):</th>     <td>0.08</td> <th>  Jarque-Bera (JB):  </th> <td>7730.29</td>\n</tr>\n<tr>\n  <th>Prob(Q):</th>                <td>0.77</td> <th>  Prob(JB):          </th>  <td>0.00</td>  \n</tr>\n<tr>\n  <th>Heteroskedasticity (H):</th> <td>2.03</td> <th>  Skew:              </th>  <td>-0.06</td> \n</tr>\n<tr>\n  <th>Prob(H) (two-sided):</th>    <td>0.00</td> <th>  Kurtosis:          </th>  <td>9.08</td>  \n</tr>\n</table><br/><br/>Warnings:<br/>[1] Covariance matrix calculated using the outer product of gradients (complex-step)."
     },
     "execution_count": 6,
     "metadata": {},
     "output_type": "execute_result"
    }
   ],
   "source": [
    "'''\n",
    "    The P Value from the second value is zero, meaning that Φ² is significantly different from , and should be\n",
    "    included in the model. Also, the P Value from the first lag decreased.\n",
    "'''\n",
    "mod_ret_ar_2 = ARIMA(df.returns, order = (2, 0, 0))\n",
    "res_ret_ar_2 = mod_ret_ar_2.fit()\n",
    "res_ret_ar_2.summary()"
   ],
   "metadata": {
    "collapsed": false
   }
  },
  {
   "cell_type": "code",
   "execution_count": 7,
   "outputs": [
    {
     "data": {
      "text/plain": "0.0004"
     },
     "execution_count": 7,
     "metadata": {},
     "output_type": "execute_result"
    }
   ],
   "source": [
    "'''\n",
    "    There is a possibility that the change in the log likelihood is also significant.\n",
    "    To be sure about that, we'll run the LLR test. OBS: Make sure to put the simple model first.\n",
    "'''\n",
    "LLR_Test(mod_ret_ar_1, mod_ret_ar_2)"
   ],
   "metadata": {
    "collapsed": false
   }
  },
  {
   "cell_type": "code",
   "execution_count": 8,
   "outputs": [
    {
     "data": {
      "text/plain": "<class 'statsmodels.iolib.summary.Summary'>\n\"\"\"\n                               SARIMAX Results                                \n==============================================================================\nDep. Variable:                returns   No. Observations:                 5020\nModel:                 ARIMA(3, 0, 0)   Log Likelihood               -7906.738\nDate:                Thu, 08 Dec 2022   AIC                          15823.477\nTime:                        11:13:08   BIC                          15856.083\nSample:                    01-10-1994   HQIC                         15834.902\n                         - 04-05-2013                                         \nCovariance Type:                  opg                                         \n==============================================================================\n                 coef    std err          z      P>|z|      [0.025      0.975]\n------------------------------------------------------------------------------\nconst          0.0189      0.015      1.272      0.203      -0.010       0.048\nar.L1         -0.0283      0.009     -3.199      0.001      -0.046      -0.011\nar.L2         -0.0521      0.008     -6.684      0.000      -0.067      -0.037\nar.L3         -0.0815      0.008    -10.192      0.000      -0.097      -0.066\nsigma2         1.3664      0.014     94.518      0.000       1.338       1.395\n===================================================================================\nLjung-Box (L1) (Q):                   0.07   Jarque-Bera (JB):              6859.16\nProb(Q):                              0.79   Prob(JB):                         0.00\nHeteroskedasticity (H):               2.02   Skew:                            -0.15\nProb(H) (two-sided):                  0.00   Kurtosis:                         8.72\n===================================================================================\n\nWarnings:\n[1] Covariance matrix calculated using the outer product of gradients (complex-step).\n\"\"\"",
      "text/html": "<table class=\"simpletable\">\n<caption>SARIMAX Results</caption>\n<tr>\n  <th>Dep. Variable:</th>        <td>returns</td>     <th>  No. Observations:  </th>   <td>5020</td>   \n</tr>\n<tr>\n  <th>Model:</th>            <td>ARIMA(3, 0, 0)</td>  <th>  Log Likelihood     </th> <td>-7906.738</td>\n</tr>\n<tr>\n  <th>Date:</th>            <td>Thu, 08 Dec 2022</td> <th>  AIC                </th> <td>15823.477</td>\n</tr>\n<tr>\n  <th>Time:</th>                <td>11:13:08</td>     <th>  BIC                </th> <td>15856.083</td>\n</tr>\n<tr>\n  <th>Sample:</th>             <td>01-10-1994</td>    <th>  HQIC               </th> <td>15834.902</td>\n</tr>\n<tr>\n  <th></th>                   <td>- 04-05-2013</td>   <th>                     </th>     <td> </td>    \n</tr>\n<tr>\n  <th>Covariance Type:</th>        <td>opg</td>       <th>                     </th>     <td> </td>    \n</tr>\n</table>\n<table class=\"simpletable\">\n<tr>\n     <td></td>       <th>coef</th>     <th>std err</th>      <th>z</th>      <th>P>|z|</th>  <th>[0.025</th>    <th>0.975]</th>  \n</tr>\n<tr>\n  <th>const</th>  <td>    0.0189</td> <td>    0.015</td> <td>    1.272</td> <td> 0.203</td> <td>   -0.010</td> <td>    0.048</td>\n</tr>\n<tr>\n  <th>ar.L1</th>  <td>   -0.0283</td> <td>    0.009</td> <td>   -3.199</td> <td> 0.001</td> <td>   -0.046</td> <td>   -0.011</td>\n</tr>\n<tr>\n  <th>ar.L2</th>  <td>   -0.0521</td> <td>    0.008</td> <td>   -6.684</td> <td> 0.000</td> <td>   -0.067</td> <td>   -0.037</td>\n</tr>\n<tr>\n  <th>ar.L3</th>  <td>   -0.0815</td> <td>    0.008</td> <td>  -10.192</td> <td> 0.000</td> <td>   -0.097</td> <td>   -0.066</td>\n</tr>\n<tr>\n  <th>sigma2</th> <td>    1.3664</td> <td>    0.014</td> <td>   94.518</td> <td> 0.000</td> <td>    1.338</td> <td>    1.395</td>\n</tr>\n</table>\n<table class=\"simpletable\">\n<tr>\n  <th>Ljung-Box (L1) (Q):</th>     <td>0.07</td> <th>  Jarque-Bera (JB):  </th> <td>6859.16</td>\n</tr>\n<tr>\n  <th>Prob(Q):</th>                <td>0.79</td> <th>  Prob(JB):          </th>  <td>0.00</td>  \n</tr>\n<tr>\n  <th>Heteroskedasticity (H):</th> <td>2.02</td> <th>  Skew:              </th>  <td>-0.15</td> \n</tr>\n<tr>\n  <th>Prob(H) (two-sided):</th>    <td>0.00</td> <th>  Kurtosis:          </th>  <td>8.72</td>  \n</tr>\n</table><br/><br/>Warnings:<br/>[1] Covariance matrix calculated using the outer product of gradients (complex-step)."
     },
     "execution_count": 8,
     "metadata": {},
     "output_type": "execute_result"
    }
   ],
   "source": [
    "mod_ret_ar_3 = ARIMA(df.returns, order = (3, 0 ,0))\n",
    "res_ret_ar_3 = mod_ret_ar_3.fit()\n",
    "res_ret_ar_3.summary()"
   ],
   "metadata": {
    "collapsed": false
   }
  },
  {
   "cell_type": "code",
   "execution_count": 9,
   "outputs": [
    {
     "data": {
      "text/plain": "0.0"
     },
     "execution_count": 9,
     "metadata": {},
     "output_type": "execute_result"
    }
   ],
   "source": [
    "LLR_Test(mod_ret_ar_2, mod_ret_ar_3)"
   ],
   "metadata": {
    "collapsed": false
   }
  },
  {
   "cell_type": "markdown",
   "source": [
    "**Normalizing Values**"
   ],
   "metadata": {
    "collapsed": false
   }
  },
  {
   "cell_type": "code",
   "execution_count": 10,
   "outputs": [
    {
     "data": {
      "text/plain": "(-1.8928710132672344,\n 0.33542220743300755,\n 6,\n 5013,\n {'1%': -3.431655136974821,\n  '5%': -2.8621167297421373,\n  '10%': -2.567076993884522},\n 19553.90073102193)"
     },
     "execution_count": 10,
     "metadata": {},
     "output_type": "execute_result"
    }
   ],
   "source": [
    "'''\n",
    "    In general, by normalizing 2 Time Series we can compare how well they perform relative to one another.\n",
    "\n",
    "    1.) Set some BenchMark -> Used for the central piece we use to compare all subsequence values of the TimeSeries\n",
    "'''\n",
    "benchmark = df.market_value.iloc[0]\n",
    "\n",
    "# Divide all the values of the set with this number and multiply by 100\n",
    "df['norm'] = df.market_value.div(benchmark).mul(100)\n",
    "\n",
    "# AR work best with Stationary Data, so we need to run Dick-Fuller Test, before we are certain\n",
    "# that the values are useful.\n",
    "\n",
    "## OBS: The P Value suggest that this that is Non-Stationarity, and Normalized price does not\n",
    "##      result in stationary data, therefore we wont be able to use an AR Model with normalized\n",
    "##      prices.\n",
    "stat_tsa_stats.adfuller(df.norm)"
   ],
   "metadata": {
    "collapsed": false
   }
  },
  {
   "cell_type": "markdown",
   "source": [
    "**Normalized Returns**"
   ],
   "metadata": {
    "collapsed": false
   }
  },
  {
   "cell_type": "code",
   "execution_count": 11,
   "outputs": [
    {
     "data": {
      "text/plain": "(-12.770265719497258,\n 7.798058336037547e-24,\n 32,\n 4987,\n {'1%': -3.431661944885779,\n  '5%': -2.8621197374408225,\n  '10%': -2.5670785949998973},\n 80114.49116124898)"
     },
     "execution_count": 11,
     "metadata": {},
     "output_type": "execute_result"
    }
   ],
   "source": [
    "'''\n",
    "    Normalized Returns -> They account for the absolute profitability of the investment in contrast\n",
    "                          to prices, allowing to compare the relative profitability as opposed to\n",
    "                          non-normalized returns.\n",
    "'''\n",
    "benchmark_ret = df.returns.iloc[0]\n",
    "df['norm_ret'] = df.returns.div(benchmark_ret).mul(100)\n",
    "\n",
    "# Significally less statistical value and more P Value in this case, meaning that this set\n",
    "# is probably stationary\n",
    "stat_tsa_stats.adfuller(df.norm_ret)"
   ],
   "metadata": {
    "collapsed": false
   }
  },
  {
   "cell_type": "code",
   "execution_count": null,
   "outputs": [],
   "source": [],
   "metadata": {
    "collapsed": false
   }
  }
 ],
 "metadata": {
  "kernelspec": {
   "display_name": "Python 3",
   "language": "python",
   "name": "python3"
  },
  "language_info": {
   "codemirror_mode": {
    "name": "ipython",
    "version": 2
   },
   "file_extension": ".py",
   "mimetype": "text/x-python",
   "name": "python",
   "nbconvert_exporter": "python",
   "pygments_lexer": "ipython2",
   "version": "2.7.6"
  }
 },
 "nbformat": 4,
 "nbformat_minor": 0
}
