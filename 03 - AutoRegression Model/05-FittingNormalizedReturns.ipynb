{
 "cells": [
  {
   "cell_type": "code",
   "execution_count": null,
   "outputs": [],
   "source": [
    "import pandas as pd\n",
    "import numpy as np\n",
    "import seaborn as sns\n",
    "import matplotlib.pyplot as plt\n",
    "import statsmodels.graphics.tsaplots as stats_graph_tsa\n",
    "import statsmodels.tsa.stattools as stat_tsa_stats\n",
    "import statsmodels.api as sm\n",
    "from statsmodels.tsa.arima.model import ARIMA\n",
    "from pandas_datareader import data as wb\n",
    "from scipy.stats.distributions import chi2\n",
    "from datetime import datetime\n",
    "\n",
    "sns.set()"
   ],
   "metadata": {
    "collapsed": false
   }
  },
  {
   "cell_type": "markdown",
   "source": [
    "**Treating Data**"
   ],
   "metadata": {
    "collapsed": false
   }
  },
  {
   "cell_type": "code",
   "execution_count": 2,
   "outputs": [],
   "source": [
    "raw_csv_data = pd.read_csv('../01 - Intro/IndexE8.csv')\n",
    "df_complete = raw_csv_data.copy()\n",
    "\n",
    "df_complete['market_value'] = df_complete.spx\n",
    "\n",
    "# Transform Date column to the type Date\n",
    "df_complete.date = pd.to_datetime(df_complete.date, dayfirst = True)\n",
    "\n",
    "# Setting Date as Index\n",
    "df_complete.date = df_complete.set_index('date', inplace = True)\n",
    "\n",
    "# Setting Frequency as Business Day\n",
    "df_complete = df_complete.asfreq('b')\n",
    "\n",
    "# Fill empty values -> Front Fill\n",
    "df_complete = df_complete.fillna(method = 'ffill')\n",
    "\n",
    "del df_complete['dax']\n",
    "del df_complete['ftse']\n",
    "del df_complete['nikkei']\n",
    "del df_complete['spx']\n",
    "\n",
    "# Getting 80% of the Data Set\n",
    "size = int(len(df_complete) * 0.8)\n",
    "\n",
    "# Setting Train and Test\n",
    "df, df_test = df_complete.iloc[:size], df_complete.iloc[size:]"
   ],
   "metadata": {
    "collapsed": false
   }
  },
  {
   "cell_type": "code",
   "execution_count": 3,
   "outputs": [],
   "source": [
    "def LLR_Test (mod_1, mod_2, DF = 1):\n",
    "    L1 = mod_1.fit().llf\n",
    "    L2 = mod_2.fit().llf\n",
    "\n",
    "    LR = (2 * (L2 - L1))\n",
    "    pvalue = chi2.sf(LR, DF).round(4)\n",
    "\n",
    "    return pvalue"
   ],
   "metadata": {
    "collapsed": false
   }
  },
  {
   "cell_type": "markdown",
   "source": [
    "**Normalized Returns**"
   ],
   "metadata": {
    "collapsed": false
   }
  },
  {
   "cell_type": "code",
   "execution_count": 19,
   "outputs": [
    {
     "data": {
      "text/plain": "(-17.031714557655963,\n 8.316113404053451e-30,\n 17,\n 5001,\n {'1%': -3.431658270286891,\n  '5%': -2.8621181140235223,\n  '10%': -2.5670777307913744},\n 76192.03270274171)"
     },
     "execution_count": 19,
     "metadata": {},
     "output_type": "execute_result"
    }
   ],
   "source": [
    "'''\n",
    "    Normalized Returns -> They account for the absolute profitability of the investment in contrast\n",
    "                          to prices, allowing to compare the relative profitability as opposed to\n",
    "                          non-normalized returns.\n",
    "'''\n",
    "''' Defining the return column '''\n",
    "df['returns'] = df.market_value.pct_change(1).mul(100)\n",
    "df = df.iloc[1:]\n",
    "\n",
    "benchmark_ret = df.returns.iloc[0]\n",
    "df['norm_ret'] = df.returns.div(benchmark_ret).mul(100)\n",
    "\n",
    "# Significally less statistical value and more P Value in this case, meaning that this set\n",
    "# is probably stationary\n",
    "stat_tsa_stats.adfuller(df.norm_ret)"
   ],
   "metadata": {
    "collapsed": false
   }
  },
  {
   "cell_type": "markdown",
   "source": [
    "**Fitting Normalized Return**"
   ],
   "metadata": {
    "collapsed": false
   }
  },
  {
   "cell_type": "code",
   "execution_count": 20,
   "outputs": [
    {
     "data": {
      "text/plain": "<class 'statsmodels.iolib.summary.Summary'>\n\"\"\"\n                               SARIMAX Results                                \n==============================================================================\nDep. Variable:               norm_ret   No. Observations:                 5019\nModel:                 ARIMA(1, 0, 0)   Log Likelihood              -38344.922\nDate:                Thu, 08 Dec 2022   AIC                          76695.845\nTime:                        11:18:04   BIC                          76715.408\nSample:                    01-11-1994   HQIC                         76702.700\n                         - 04-05-2013                                         \nCovariance Type:                  opg                                         \n==============================================================================\n                 coef    std err          z      P>|z|      [0.025      0.975]\n------------------------------------------------------------------------------\nconst        -12.8934      6.781     -1.901      0.057     -26.185       0.398\nar.L1         -0.0719      0.008     -8.507      0.000      -0.088      -0.055\nsigma2      2.533e+05   2222.112    113.978      0.000    2.49e+05    2.58e+05\n===================================================================================\nLjung-Box (L1) (Q):                   0.05   Jarque-Bera (JB):             14953.29\nProb(Q):                              0.83   Prob(JB):                         0.00\nHeteroskedasticity (H):               2.22   Skew:                             0.12\nProb(H) (two-sided):                  0.00   Kurtosis:                        11.45\n===================================================================================\n\nWarnings:\n[1] Covariance matrix calculated using the outer product of gradients (complex-step).\n\"\"\"",
      "text/html": "<table class=\"simpletable\">\n<caption>SARIMAX Results</caption>\n<tr>\n  <th>Dep. Variable:</th>       <td>norm_ret</td>     <th>  No. Observations:  </th>    <td>5019</td>   \n</tr>\n<tr>\n  <th>Model:</th>            <td>ARIMA(1, 0, 0)</td>  <th>  Log Likelihood     </th> <td>-38344.922</td>\n</tr>\n<tr>\n  <th>Date:</th>            <td>Thu, 08 Dec 2022</td> <th>  AIC                </th>  <td>76695.845</td>\n</tr>\n<tr>\n  <th>Time:</th>                <td>11:18:04</td>     <th>  BIC                </th>  <td>76715.408</td>\n</tr>\n<tr>\n  <th>Sample:</th>             <td>01-11-1994</td>    <th>  HQIC               </th>  <td>76702.700</td>\n</tr>\n<tr>\n  <th></th>                   <td>- 04-05-2013</td>   <th>                     </th>      <td> </td>    \n</tr>\n<tr>\n  <th>Covariance Type:</th>        <td>opg</td>       <th>                     </th>      <td> </td>    \n</tr>\n</table>\n<table class=\"simpletable\">\n<tr>\n     <td></td>       <th>coef</th>     <th>std err</th>      <th>z</th>      <th>P>|z|</th>  <th>[0.025</th>    <th>0.975]</th>  \n</tr>\n<tr>\n  <th>const</th>  <td>  -12.8934</td> <td>    6.781</td> <td>   -1.901</td> <td> 0.057</td> <td>  -26.185</td> <td>    0.398</td>\n</tr>\n<tr>\n  <th>ar.L1</th>  <td>   -0.0719</td> <td>    0.008</td> <td>   -8.507</td> <td> 0.000</td> <td>   -0.088</td> <td>   -0.055</td>\n</tr>\n<tr>\n  <th>sigma2</th> <td> 2.533e+05</td> <td> 2222.112</td> <td>  113.978</td> <td> 0.000</td> <td> 2.49e+05</td> <td> 2.58e+05</td>\n</tr>\n</table>\n<table class=\"simpletable\">\n<tr>\n  <th>Ljung-Box (L1) (Q):</th>     <td>0.05</td> <th>  Jarque-Bera (JB):  </th> <td>14953.29</td>\n</tr>\n<tr>\n  <th>Prob(Q):</th>                <td>0.83</td> <th>  Prob(JB):          </th>   <td>0.00</td>  \n</tr>\n<tr>\n  <th>Heteroskedasticity (H):</th> <td>2.22</td> <th>  Skew:              </th>   <td>0.12</td>  \n</tr>\n<tr>\n  <th>Prob(H) (two-sided):</th>    <td>0.00</td> <th>  Kurtosis:          </th>   <td>11.45</td> \n</tr>\n</table><br/><br/>Warnings:<br/>[1] Covariance matrix calculated using the outer product of gradients (complex-step)."
     },
     "execution_count": 20,
     "metadata": {},
     "output_type": "execute_result"
    }
   ],
   "source": [
    "mod_norm_ret_ar_1 = ARIMA(df.norm_ret, order = (1, 0, 0))\n",
    "res_norm_ret_ar_1 = mod_norm_ret_ar_1.fit()\n",
    "\n",
    "res_norm_ret_ar_1.summary()"
   ],
   "metadata": {
    "collapsed": false
   }
  },
  {
   "cell_type": "code",
   "execution_count": 21,
   "outputs": [
    {
     "data": {
      "text/plain": "<class 'statsmodels.iolib.summary.Summary'>\n\"\"\"\n                               SARIMAX Results                                \n==============================================================================\nDep. Variable:               norm_ret   No. Observations:                 5019\nModel:                 ARIMA(2, 0, 0)   Log Likelihood              -38340.560\nDate:                Thu, 08 Dec 2022   AIC                          76689.121\nTime:                        11:18:37   BIC                          76715.205\nSample:                    01-11-1994   HQIC                         76698.261\n                         - 04-05-2013                                         \nCovariance Type:                  opg                                         \n==============================================================================\n                 coef    std err          z      P>|z|      [0.025      0.975]\n------------------------------------------------------------------------------\nconst        -12.8934      6.615     -1.949      0.051     -25.858       0.071\nar.L1         -0.0748      0.009     -8.779      0.000      -0.092      -0.058\nar.L2         -0.0417      0.007     -6.031      0.000      -0.055      -0.028\nsigma2      2.529e+05   2340.609    108.041      0.000    2.48e+05    2.57e+05\n===================================================================================\nLjung-Box (L1) (Q):                   0.00   Jarque-Bera (JB):             13916.02\nProb(Q):                              0.97   Prob(JB):                         0.00\nHeteroskedasticity (H):               2.21   Skew:                             0.17\nProb(H) (two-sided):                  0.00   Kurtosis:                        11.15\n===================================================================================\n\nWarnings:\n[1] Covariance matrix calculated using the outer product of gradients (complex-step).\n\"\"\"",
      "text/html": "<table class=\"simpletable\">\n<caption>SARIMAX Results</caption>\n<tr>\n  <th>Dep. Variable:</th>       <td>norm_ret</td>     <th>  No. Observations:  </th>    <td>5019</td>   \n</tr>\n<tr>\n  <th>Model:</th>            <td>ARIMA(2, 0, 0)</td>  <th>  Log Likelihood     </th> <td>-38340.560</td>\n</tr>\n<tr>\n  <th>Date:</th>            <td>Thu, 08 Dec 2022</td> <th>  AIC                </th>  <td>76689.121</td>\n</tr>\n<tr>\n  <th>Time:</th>                <td>11:18:37</td>     <th>  BIC                </th>  <td>76715.205</td>\n</tr>\n<tr>\n  <th>Sample:</th>             <td>01-11-1994</td>    <th>  HQIC               </th>  <td>76698.261</td>\n</tr>\n<tr>\n  <th></th>                   <td>- 04-05-2013</td>   <th>                     </th>      <td> </td>    \n</tr>\n<tr>\n  <th>Covariance Type:</th>        <td>opg</td>       <th>                     </th>      <td> </td>    \n</tr>\n</table>\n<table class=\"simpletable\">\n<tr>\n     <td></td>       <th>coef</th>     <th>std err</th>      <th>z</th>      <th>P>|z|</th>  <th>[0.025</th>    <th>0.975]</th>  \n</tr>\n<tr>\n  <th>const</th>  <td>  -12.8934</td> <td>    6.615</td> <td>   -1.949</td> <td> 0.051</td> <td>  -25.858</td> <td>    0.071</td>\n</tr>\n<tr>\n  <th>ar.L1</th>  <td>   -0.0748</td> <td>    0.009</td> <td>   -8.779</td> <td> 0.000</td> <td>   -0.092</td> <td>   -0.058</td>\n</tr>\n<tr>\n  <th>ar.L2</th>  <td>   -0.0417</td> <td>    0.007</td> <td>   -6.031</td> <td> 0.000</td> <td>   -0.055</td> <td>   -0.028</td>\n</tr>\n<tr>\n  <th>sigma2</th> <td> 2.529e+05</td> <td> 2340.609</td> <td>  108.041</td> <td> 0.000</td> <td> 2.48e+05</td> <td> 2.57e+05</td>\n</tr>\n</table>\n<table class=\"simpletable\">\n<tr>\n  <th>Ljung-Box (L1) (Q):</th>     <td>0.00</td> <th>  Jarque-Bera (JB):  </th> <td>13916.02</td>\n</tr>\n<tr>\n  <th>Prob(Q):</th>                <td>0.97</td> <th>  Prob(JB):          </th>   <td>0.00</td>  \n</tr>\n<tr>\n  <th>Heteroskedasticity (H):</th> <td>2.21</td> <th>  Skew:              </th>   <td>0.17</td>  \n</tr>\n<tr>\n  <th>Prob(H) (two-sided):</th>    <td>0.00</td> <th>  Kurtosis:          </th>   <td>11.15</td> \n</tr>\n</table><br/><br/>Warnings:<br/>[1] Covariance matrix calculated using the outer product of gradients (complex-step)."
     },
     "execution_count": 21,
     "metadata": {},
     "output_type": "execute_result"
    }
   ],
   "source": [
    "mod_norm_ret_ar_2 = ARIMA(df.norm_ret, order = (2, 0, 0))\n",
    "res_norm_ret_ar_2 = mod_norm_ret_ar_2.fit()\n",
    "\n",
    "res_norm_ret_ar_2.summary()"
   ],
   "metadata": {
    "collapsed": false
   }
  },
  {
   "cell_type": "code",
   "execution_count": 22,
   "outputs": [
    {
     "data": {
      "text/plain": "<class 'statsmodels.iolib.summary.Summary'>\n\"\"\"\n                               SARIMAX Results                                \n==============================================================================\nDep. Variable:               norm_ret   No. Observations:                 5019\nModel:                 ARIMA(7, 0, 0)   Log Likelihood              -38332.011\nDate:                Thu, 08 Dec 2022   AIC                          76682.022\nTime:                        11:19:43   BIC                          76740.711\nSample:                    01-11-1994   HQIC                         76702.588\n                         - 04-05-2013                                         \nCovariance Type:                  opg                                         \n==============================================================================\n                 coef    std err          z      P>|z|      [0.025      0.975]\n------------------------------------------------------------------------------\nconst        -12.8934      6.087     -2.118      0.034     -24.823      -0.964\nar.L1         -0.0773      0.009     -8.999      0.000      -0.094      -0.060\nar.L2         -0.0450      0.007     -6.506      0.000      -0.059      -0.031\nar.L3         -0.0140      0.009     -1.619      0.105      -0.031       0.003\nar.L4         -0.0147      0.008     -1.861      0.063      -0.030       0.001\nar.L5         -0.0385      0.007     -5.246      0.000      -0.053      -0.024\nar.L6         -0.0232      0.008     -3.048      0.002      -0.038      -0.008\nar.L7         -0.0389      0.007     -5.208      0.000      -0.054      -0.024\nsigma2      2.523e+05   2385.180    105.759      0.000    2.48e+05    2.57e+05\n===================================================================================\nLjung-Box (L1) (Q):                   0.00   Jarque-Bera (JB):             13335.29\nProb(Q):                              0.95   Prob(JB):                         0.00\nHeteroskedasticity (H):               2.21   Skew:                             0.24\nProb(H) (two-sided):                  0.00   Kurtosis:                        10.97\n===================================================================================\n\nWarnings:\n[1] Covariance matrix calculated using the outer product of gradients (complex-step).\n\"\"\"",
      "text/html": "<table class=\"simpletable\">\n<caption>SARIMAX Results</caption>\n<tr>\n  <th>Dep. Variable:</th>       <td>norm_ret</td>     <th>  No. Observations:  </th>    <td>5019</td>   \n</tr>\n<tr>\n  <th>Model:</th>            <td>ARIMA(7, 0, 0)</td>  <th>  Log Likelihood     </th> <td>-38332.011</td>\n</tr>\n<tr>\n  <th>Date:</th>            <td>Thu, 08 Dec 2022</td> <th>  AIC                </th>  <td>76682.022</td>\n</tr>\n<tr>\n  <th>Time:</th>                <td>11:19:43</td>     <th>  BIC                </th>  <td>76740.711</td>\n</tr>\n<tr>\n  <th>Sample:</th>             <td>01-11-1994</td>    <th>  HQIC               </th>  <td>76702.588</td>\n</tr>\n<tr>\n  <th></th>                   <td>- 04-05-2013</td>   <th>                     </th>      <td> </td>    \n</tr>\n<tr>\n  <th>Covariance Type:</th>        <td>opg</td>       <th>                     </th>      <td> </td>    \n</tr>\n</table>\n<table class=\"simpletable\">\n<tr>\n     <td></td>       <th>coef</th>     <th>std err</th>      <th>z</th>      <th>P>|z|</th>  <th>[0.025</th>    <th>0.975]</th>  \n</tr>\n<tr>\n  <th>const</th>  <td>  -12.8934</td> <td>    6.087</td> <td>   -2.118</td> <td> 0.034</td> <td>  -24.823</td> <td>   -0.964</td>\n</tr>\n<tr>\n  <th>ar.L1</th>  <td>   -0.0773</td> <td>    0.009</td> <td>   -8.999</td> <td> 0.000</td> <td>   -0.094</td> <td>   -0.060</td>\n</tr>\n<tr>\n  <th>ar.L2</th>  <td>   -0.0450</td> <td>    0.007</td> <td>   -6.506</td> <td> 0.000</td> <td>   -0.059</td> <td>   -0.031</td>\n</tr>\n<tr>\n  <th>ar.L3</th>  <td>   -0.0140</td> <td>    0.009</td> <td>   -1.619</td> <td> 0.105</td> <td>   -0.031</td> <td>    0.003</td>\n</tr>\n<tr>\n  <th>ar.L4</th>  <td>   -0.0147</td> <td>    0.008</td> <td>   -1.861</td> <td> 0.063</td> <td>   -0.030</td> <td>    0.001</td>\n</tr>\n<tr>\n  <th>ar.L5</th>  <td>   -0.0385</td> <td>    0.007</td> <td>   -5.246</td> <td> 0.000</td> <td>   -0.053</td> <td>   -0.024</td>\n</tr>\n<tr>\n  <th>ar.L6</th>  <td>   -0.0232</td> <td>    0.008</td> <td>   -3.048</td> <td> 0.002</td> <td>   -0.038</td> <td>   -0.008</td>\n</tr>\n<tr>\n  <th>ar.L7</th>  <td>   -0.0389</td> <td>    0.007</td> <td>   -5.208</td> <td> 0.000</td> <td>   -0.054</td> <td>   -0.024</td>\n</tr>\n<tr>\n  <th>sigma2</th> <td> 2.523e+05</td> <td> 2385.180</td> <td>  105.759</td> <td> 0.000</td> <td> 2.48e+05</td> <td> 2.57e+05</td>\n</tr>\n</table>\n<table class=\"simpletable\">\n<tr>\n  <th>Ljung-Box (L1) (Q):</th>     <td>0.00</td> <th>  Jarque-Bera (JB):  </th> <td>13335.29</td>\n</tr>\n<tr>\n  <th>Prob(Q):</th>                <td>0.95</td> <th>  Prob(JB):          </th>   <td>0.00</td>  \n</tr>\n<tr>\n  <th>Heteroskedasticity (H):</th> <td>2.21</td> <th>  Skew:              </th>   <td>0.24</td>  \n</tr>\n<tr>\n  <th>Prob(H) (two-sided):</th>    <td>0.00</td> <th>  Kurtosis:          </th>   <td>10.97</td> \n</tr>\n</table><br/><br/>Warnings:<br/>[1] Covariance matrix calculated using the outer product of gradients (complex-step)."
     },
     "execution_count": 22,
     "metadata": {},
     "output_type": "execute_result"
    }
   ],
   "source": [
    "mod_norm_ret_ar_7 = ARIMA(df.norm_ret, order = (7, 0, 0))\n",
    "res_norm_ret_ar_7 = mod_norm_ret_ar_7.fit()\n",
    "\n",
    "res_norm_ret_ar_7.summary()"
   ],
   "metadata": {
    "collapsed": false
   }
  },
  {
   "cell_type": "markdown",
   "source": [
    "**OBS:**\n",
    "    We can notice that the Non-Normalized model has the same P-Values of the Normalized Return Model.\n",
    "    The difference is noticed in the Loglikehood and the const value, that in general if the P-Value\n",
    "    does'nt change, there is'nt much difference between the two types."
   ],
   "metadata": {
    "collapsed": false
   }
  },
  {
   "cell_type": "code",
   "execution_count": null,
   "outputs": [],
   "source": [],
   "metadata": {
    "collapsed": false
   }
  }
 ],
 "metadata": {
  "kernelspec": {
   "display_name": "Python 3",
   "language": "python",
   "name": "python3"
  },
  "language_info": {
   "codemirror_mode": {
    "name": "ipython",
    "version": 2
   },
   "file_extension": ".py",
   "mimetype": "text/x-python",
   "name": "python",
   "nbconvert_exporter": "python",
   "pygments_lexer": "ipython2",
   "version": "2.7.6"
  }
 },
 "nbformat": 4,
 "nbformat_minor": 0
}
