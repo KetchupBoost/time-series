{
 "cells": [
  {
   "cell_type": "code",
   "execution_count": 2,
   "metadata": {
    "collapsed": true
   },
   "outputs": [],
   "source": [
    "import pandas as pd\n",
    "import numpy as np\n",
    "import matplotlib.pyplot as plt\n",
    "import seaborn as sns"
   ]
  },
  {
   "cell_type": "code",
   "execution_count": 3,
   "outputs": [],
   "source": [
    "sns.set()"
   ],
   "metadata": {
    "collapsed": false
   }
  },
  {
   "cell_type": "code",
   "execution_count": 4,
   "outputs": [],
   "source": [
    "raw_csv_data = pd.read_csv(\"IndexE8.csv\")\n",
    "df_complete = raw_csv_data.copy()"
   ],
   "metadata": {
    "collapsed": false
   }
  },
  {
   "cell_type": "markdown",
   "source": [
    "**Length of the Time Period**"
   ],
   "metadata": {
    "collapsed": false
   }
  },
  {
   "cell_type": "code",
   "execution_count": 5,
   "outputs": [
    {
     "data": {
      "text/plain": "count           6269\nunique          6269\ntop       07/01/1994\nfreq               1\nName: date, dtype: object"
     },
     "execution_count": 5,
     "metadata": {},
     "output_type": "execute_result"
    }
   ],
   "source": [
    "# Describe the Data column in the Pandas Dataframe\n",
    "df_complete.date.describe()"
   ],
   "metadata": {
    "collapsed": false
   }
  },
  {
   "cell_type": "markdown",
   "source": [
    "**From Text to Date**"
   ],
   "metadata": {
    "collapsed": false
   }
  },
  {
   "cell_type": "code",
   "execution_count": 6,
   "outputs": [],
   "source": [
    "'''\n",
    "This method assumes that we are plugging in a string in a \"MM/dd/yyyy\" form.\n",
    "But our data is saved in a \"dd/MM/yyyy\" format. So we set the argument \"dayfirst\" to True.\n",
    "'''\n",
    "df_complete.date = pd.to_datetime(df_complete.date, dayfirst = True)"
   ],
   "metadata": {
    "collapsed": false
   }
  },
  {
   "cell_type": "code",
   "execution_count": 7,
   "outputs": [
    {
     "data": {
      "text/plain": "        date     spx      dax     ftse    nikkei\n0 1994-01-07  469.90  2224.95  3445.98  18124.01\n1 1994-01-10  475.27  2225.00  3440.58  18443.44\n2 1994-01-11  474.13  2228.10  3413.77  18485.25\n3 1994-01-12  474.17  2182.06  3372.02  18793.88\n4 1994-01-13  472.47  2142.37  3360.01  18577.26",
      "text/html": "<div>\n<style scoped>\n    .dataframe tbody tr th:only-of-type {\n        vertical-align: middle;\n    }\n\n    .dataframe tbody tr th {\n        vertical-align: top;\n    }\n\n    .dataframe thead th {\n        text-align: right;\n    }\n</style>\n<table border=\"1\" class=\"dataframe\">\n  <thead>\n    <tr style=\"text-align: right;\">\n      <th></th>\n      <th>date</th>\n      <th>spx</th>\n      <th>dax</th>\n      <th>ftse</th>\n      <th>nikkei</th>\n    </tr>\n  </thead>\n  <tbody>\n    <tr>\n      <th>0</th>\n      <td>1994-01-07</td>\n      <td>469.90</td>\n      <td>2224.95</td>\n      <td>3445.98</td>\n      <td>18124.01</td>\n    </tr>\n    <tr>\n      <th>1</th>\n      <td>1994-01-10</td>\n      <td>475.27</td>\n      <td>2225.00</td>\n      <td>3440.58</td>\n      <td>18443.44</td>\n    </tr>\n    <tr>\n      <th>2</th>\n      <td>1994-01-11</td>\n      <td>474.13</td>\n      <td>2228.10</td>\n      <td>3413.77</td>\n      <td>18485.25</td>\n    </tr>\n    <tr>\n      <th>3</th>\n      <td>1994-01-12</td>\n      <td>474.17</td>\n      <td>2182.06</td>\n      <td>3372.02</td>\n      <td>18793.88</td>\n    </tr>\n    <tr>\n      <th>4</th>\n      <td>1994-01-13</td>\n      <td>472.47</td>\n      <td>2142.37</td>\n      <td>3360.01</td>\n      <td>18577.26</td>\n    </tr>\n  </tbody>\n</table>\n</div>"
     },
     "execution_count": 7,
     "metadata": {},
     "output_type": "execute_result"
    }
   ],
   "source": [
    "df_complete.head()"
   ],
   "metadata": {
    "collapsed": false
   }
  },
  {
   "cell_type": "code",
   "execution_count": 8,
   "outputs": [
    {
     "name": "stderr",
     "output_type": "stream",
     "text": [
      "C:\\Users\\Yago\\AppData\\Local\\Temp\\ipykernel_16784\\2791965777.py:1: FutureWarning: Treating datetime data as categorical rather than numeric in `.describe` is deprecated and will be removed in a future version of pandas. Specify `datetime_is_numeric=True` to silence this warning and adopt the future behavior now.\n",
      "  df_complete.date.describe()\n"
     ]
    },
    {
     "data": {
      "text/plain": "count                    6269\nunique                   6269\ntop       1994-01-07 00:00:00\nfreq                        1\nfirst     1994-01-07 00:00:00\nlast      2018-01-29 00:00:00\nName: date, dtype: object"
     },
     "execution_count": 8,
     "metadata": {},
     "output_type": "execute_result"
    }
   ],
   "source": [
    "df_complete.date.describe()"
   ],
   "metadata": {
    "collapsed": false
   }
  },
  {
   "cell_type": "markdown",
   "source": [
    "**Setting the Index**"
   ],
   "metadata": {
    "collapsed": false
   }
  },
  {
   "cell_type": "code",
   "execution_count": 9,
   "outputs": [],
   "source": [
    "df_complete.set_index(\"date\", inplace = True)"
   ],
   "metadata": {
    "collapsed": false
   }
  },
  {
   "cell_type": "code",
   "execution_count": 10,
   "outputs": [
    {
     "data": {
      "text/plain": "               spx      dax     ftse    nikkei\ndate                                          \n1994-01-07  469.90  2224.95  3445.98  18124.01\n1994-01-10  475.27  2225.00  3440.58  18443.44\n1994-01-11  474.13  2228.10  3413.77  18485.25\n1994-01-12  474.17  2182.06  3372.02  18793.88\n1994-01-13  472.47  2142.37  3360.01  18577.26",
      "text/html": "<div>\n<style scoped>\n    .dataframe tbody tr th:only-of-type {\n        vertical-align: middle;\n    }\n\n    .dataframe tbody tr th {\n        vertical-align: top;\n    }\n\n    .dataframe thead th {\n        text-align: right;\n    }\n</style>\n<table border=\"1\" class=\"dataframe\">\n  <thead>\n    <tr style=\"text-align: right;\">\n      <th></th>\n      <th>spx</th>\n      <th>dax</th>\n      <th>ftse</th>\n      <th>nikkei</th>\n    </tr>\n    <tr>\n      <th>date</th>\n      <th></th>\n      <th></th>\n      <th></th>\n      <th></th>\n    </tr>\n  </thead>\n  <tbody>\n    <tr>\n      <th>1994-01-07</th>\n      <td>469.90</td>\n      <td>2224.95</td>\n      <td>3445.98</td>\n      <td>18124.01</td>\n    </tr>\n    <tr>\n      <th>1994-01-10</th>\n      <td>475.27</td>\n      <td>2225.00</td>\n      <td>3440.58</td>\n      <td>18443.44</td>\n    </tr>\n    <tr>\n      <th>1994-01-11</th>\n      <td>474.13</td>\n      <td>2228.10</td>\n      <td>3413.77</td>\n      <td>18485.25</td>\n    </tr>\n    <tr>\n      <th>1994-01-12</th>\n      <td>474.17</td>\n      <td>2182.06</td>\n      <td>3372.02</td>\n      <td>18793.88</td>\n    </tr>\n    <tr>\n      <th>1994-01-13</th>\n      <td>472.47</td>\n      <td>2142.37</td>\n      <td>3360.01</td>\n      <td>18577.26</td>\n    </tr>\n  </tbody>\n</table>\n</div>"
     },
     "execution_count": 10,
     "metadata": {},
     "output_type": "execute_result"
    }
   ],
   "source": [
    "df_complete.head()"
   ],
   "metadata": {
    "collapsed": false
   }
  },
  {
   "cell_type": "markdown",
   "source": [
    "**Setting the Desired Frequency**"
   ],
   "metadata": {
    "collapsed": false
   }
  },
  {
   "cell_type": "code",
   "execution_count": 13,
   "outputs": [],
   "source": [
    "'''\n",
    "    'h' -> Hourly\n",
    "    'w' -> Weekly\n",
    "    'd' -> Daily\n",
    "    'm' -> Monthly\n",
    "    'a' -> annual\n",
    "\n",
    "    https://pandas.pydata.org/pandas-docs/stable/user_guide/timeseries.html#offset-aliases\n",
    "\n",
    "    Notice that the line period that are in \"NaN\" are Sartuday and Sunday.\n",
    "    So we are using just Business Day Frequency\n",
    "'''\n",
    "df_complete = df_complete.asfreq('b')"
   ],
   "metadata": {
    "collapsed": false
   }
  },
  {
   "cell_type": "code",
   "execution_count": 15,
   "outputs": [
    {
     "data": {
      "text/plain": "               spx      dax     ftse    nikkei\ndate                                          \n1994-01-07  469.90  2224.95  3445.98  18124.01\n1994-01-10  475.27  2225.00  3440.58  18443.44\n1994-01-11  474.13  2228.10  3413.77  18485.25\n1994-01-12  474.17  2182.06  3372.02  18793.88\n1994-01-13  472.47  2142.37  3360.01  18577.26",
      "text/html": "<div>\n<style scoped>\n    .dataframe tbody tr th:only-of-type {\n        vertical-align: middle;\n    }\n\n    .dataframe tbody tr th {\n        vertical-align: top;\n    }\n\n    .dataframe thead th {\n        text-align: right;\n    }\n</style>\n<table border=\"1\" class=\"dataframe\">\n  <thead>\n    <tr style=\"text-align: right;\">\n      <th></th>\n      <th>spx</th>\n      <th>dax</th>\n      <th>ftse</th>\n      <th>nikkei</th>\n    </tr>\n    <tr>\n      <th>date</th>\n      <th></th>\n      <th></th>\n      <th></th>\n      <th></th>\n    </tr>\n  </thead>\n  <tbody>\n    <tr>\n      <th>1994-01-07</th>\n      <td>469.90</td>\n      <td>2224.95</td>\n      <td>3445.98</td>\n      <td>18124.01</td>\n    </tr>\n    <tr>\n      <th>1994-01-10</th>\n      <td>475.27</td>\n      <td>2225.00</td>\n      <td>3440.58</td>\n      <td>18443.44</td>\n    </tr>\n    <tr>\n      <th>1994-01-11</th>\n      <td>474.13</td>\n      <td>2228.10</td>\n      <td>3413.77</td>\n      <td>18485.25</td>\n    </tr>\n    <tr>\n      <th>1994-01-12</th>\n      <td>474.17</td>\n      <td>2182.06</td>\n      <td>3372.02</td>\n      <td>18793.88</td>\n    </tr>\n    <tr>\n      <th>1994-01-13</th>\n      <td>472.47</td>\n      <td>2142.37</td>\n      <td>3360.01</td>\n      <td>18577.26</td>\n    </tr>\n  </tbody>\n</table>\n</div>"
     },
     "execution_count": 15,
     "metadata": {},
     "output_type": "execute_result"
    }
   ],
   "source": [
    "df_complete.head()"
   ],
   "metadata": {
    "collapsed": false
   }
  },
  {
   "cell_type": "markdown",
   "source": [
    "**Handling Missing Values**"
   ],
   "metadata": {
    "collapsed": false
   }
  },
  {
   "cell_type": "code",
   "execution_count": 16,
   "outputs": [
    {
     "data": {
      "text/plain": "spx       8\ndax       8\nftse      8\nnikkei    8\ndtype: int64"
     },
     "execution_count": 16,
     "metadata": {},
     "output_type": "execute_result"
    }
   ],
   "source": [
    "df_complete.isna().sum()"
   ],
   "metadata": {
    "collapsed": false
   }
  },
  {
   "cell_type": "code",
   "execution_count": 19,
   "outputs": [
    {
     "data": {
      "text/plain": "spx       0\ndax       8\nftse      8\nnikkei    8\ndtype: int64"
     },
     "execution_count": 19,
     "metadata": {},
     "output_type": "execute_result"
    }
   ],
   "source": [
    "'''\n",
    "Fillna() filling:\n",
    "    1. Front Filling -> Assigns the values of the previous period.\n",
    "    2. Back Filling -> Assigns the value of the next period.\n",
    "    3. Average Filling -> Assigns the average to all the missing values within the time-series. (This approuch is suitable to values that heavily floatuered\n",
    "    around the meaning from the first to the last period.\n",
    "'''\n",
    "#Front Fill\n",
    "df_complete.spx = df_complete.spx.fillna(method = 'ffill')\n",
    "df_complete.isna().sum()"
   ],
   "metadata": {
    "collapsed": false
   }
  },
  {
   "cell_type": "code",
   "execution_count": 20,
   "outputs": [],
   "source": [
    "#Back Fill\n",
    "df_complete.ftse = df_complete.ftse.fillna(method = 'bfill')\n",
    "#Average Fill\n",
    "df_complete.dax = df_complete.dax.fillna(value = df_complete.dax.mean())"
   ],
   "metadata": {
    "collapsed": false
   }
  },
  {
   "cell_type": "markdown",
   "source": [
    "**Simplifying the Dataset**"
   ],
   "metadata": {
    "collapsed": false
   }
  },
  {
   "cell_type": "code",
   "execution_count": 21,
   "outputs": [
    {
     "data": {
      "text/plain": "               spx           dax         ftse        nikkei  market_value\ncount  6277.000000   6277.000000  6277.000000   6269.000000   6277.000000\nmean   1288.642547   6080.063363  5423.690398  14597.055700   1288.642547\nstd     487.868210   2752.604984  1145.568370   4043.122953    487.868210\nmin     438.920000   1911.700000  2876.600000   7054.980000    438.920000\n25%     992.715221   4070.460000  4487.880000  10709.290000    992.715221\n50%    1233.761241   5774.380000  5663.300000  15028.170000   1233.761241\n75%    1460.250000   7442.660000  6304.630175  17860.470000   1460.250000\nmax    2872.867839  13559.600000  7778.637689  24124.150000   2872.867839",
      "text/html": "<div>\n<style scoped>\n    .dataframe tbody tr th:only-of-type {\n        vertical-align: middle;\n    }\n\n    .dataframe tbody tr th {\n        vertical-align: top;\n    }\n\n    .dataframe thead th {\n        text-align: right;\n    }\n</style>\n<table border=\"1\" class=\"dataframe\">\n  <thead>\n    <tr style=\"text-align: right;\">\n      <th></th>\n      <th>spx</th>\n      <th>dax</th>\n      <th>ftse</th>\n      <th>nikkei</th>\n      <th>market_value</th>\n    </tr>\n  </thead>\n  <tbody>\n    <tr>\n      <th>count</th>\n      <td>6277.000000</td>\n      <td>6277.000000</td>\n      <td>6277.000000</td>\n      <td>6269.000000</td>\n      <td>6277.000000</td>\n    </tr>\n    <tr>\n      <th>mean</th>\n      <td>1288.642547</td>\n      <td>6080.063363</td>\n      <td>5423.690398</td>\n      <td>14597.055700</td>\n      <td>1288.642547</td>\n    </tr>\n    <tr>\n      <th>std</th>\n      <td>487.868210</td>\n      <td>2752.604984</td>\n      <td>1145.568370</td>\n      <td>4043.122953</td>\n      <td>487.868210</td>\n    </tr>\n    <tr>\n      <th>min</th>\n      <td>438.920000</td>\n      <td>1911.700000</td>\n      <td>2876.600000</td>\n      <td>7054.980000</td>\n      <td>438.920000</td>\n    </tr>\n    <tr>\n      <th>25%</th>\n      <td>992.715221</td>\n      <td>4070.460000</td>\n      <td>4487.880000</td>\n      <td>10709.290000</td>\n      <td>992.715221</td>\n    </tr>\n    <tr>\n      <th>50%</th>\n      <td>1233.761241</td>\n      <td>5774.380000</td>\n      <td>5663.300000</td>\n      <td>15028.170000</td>\n      <td>1233.761241</td>\n    </tr>\n    <tr>\n      <th>75%</th>\n      <td>1460.250000</td>\n      <td>7442.660000</td>\n      <td>6304.630175</td>\n      <td>17860.470000</td>\n      <td>1460.250000</td>\n    </tr>\n    <tr>\n      <th>max</th>\n      <td>2872.867839</td>\n      <td>13559.600000</td>\n      <td>7778.637689</td>\n      <td>24124.150000</td>\n      <td>2872.867839</td>\n    </tr>\n  </tbody>\n</table>\n</div>"
     },
     "execution_count": 21,
     "metadata": {},
     "output_type": "execute_result"
    }
   ],
   "source": [
    "df_complete['market_value'] = df_complete.spx\n",
    "df_complete.describe()"
   ],
   "metadata": {
    "collapsed": false
   }
  },
  {
   "cell_type": "code",
   "execution_count": 22,
   "outputs": [
    {
     "data": {
      "text/plain": "       market_value\ncount   6277.000000\nmean    1288.642547\nstd      487.868210\nmin      438.920000\n25%      992.715221\n50%     1233.761241\n75%     1460.250000\nmax     2872.867839",
      "text/html": "<div>\n<style scoped>\n    .dataframe tbody tr th:only-of-type {\n        vertical-align: middle;\n    }\n\n    .dataframe tbody tr th {\n        vertical-align: top;\n    }\n\n    .dataframe thead th {\n        text-align: right;\n    }\n</style>\n<table border=\"1\" class=\"dataframe\">\n  <thead>\n    <tr style=\"text-align: right;\">\n      <th></th>\n      <th>market_value</th>\n    </tr>\n  </thead>\n  <tbody>\n    <tr>\n      <th>count</th>\n      <td>6277.000000</td>\n    </tr>\n    <tr>\n      <th>mean</th>\n      <td>1288.642547</td>\n    </tr>\n    <tr>\n      <th>std</th>\n      <td>487.868210</td>\n    </tr>\n    <tr>\n      <th>min</th>\n      <td>438.920000</td>\n    </tr>\n    <tr>\n      <th>25%</th>\n      <td>992.715221</td>\n    </tr>\n    <tr>\n      <th>50%</th>\n      <td>1233.761241</td>\n    </tr>\n    <tr>\n      <th>75%</th>\n      <td>1460.250000</td>\n    </tr>\n    <tr>\n      <th>max</th>\n      <td>2872.867839</td>\n    </tr>\n  </tbody>\n</table>\n</div>"
     },
     "execution_count": 22,
     "metadata": {},
     "output_type": "execute_result"
    }
   ],
   "source": [
    "del df_complete['spx'], df_complete['dax'], df_complete['ftse'], df_complete['nikkei']\n",
    "df_complete.describe()"
   ],
   "metadata": {
    "collapsed": false
   }
  },
  {
   "cell_type": "markdown",
   "source": [
    "**Splitting the Data**"
   ],
   "metadata": {
    "collapsed": false
   }
  },
  {
   "cell_type": "code",
   "execution_count": 23,
   "outputs": [],
   "source": [
    "''' Split in Training Set(80%) and Testing Set(20%) '''\n",
    "size = int(len(df_complete) * 0.8)\n",
    "df = df_complete.iloc[:size]\n",
    "df_test = df_complete.iloc[size:]"
   ],
   "metadata": {
    "collapsed": false
   }
  },
  {
   "cell_type": "code",
   "execution_count": 25,
   "outputs": [
    {
     "data": {
      "text/plain": "            market_value\ndate                    \n2013-04-01   1562.173837\n2013-04-02   1570.252238\n2013-04-03   1553.686978\n2013-04-04   1559.979316\n2013-04-05   1553.278930",
      "text/html": "<div>\n<style scoped>\n    .dataframe tbody tr th:only-of-type {\n        vertical-align: middle;\n    }\n\n    .dataframe tbody tr th {\n        vertical-align: top;\n    }\n\n    .dataframe thead th {\n        text-align: right;\n    }\n</style>\n<table border=\"1\" class=\"dataframe\">\n  <thead>\n    <tr style=\"text-align: right;\">\n      <th></th>\n      <th>market_value</th>\n    </tr>\n    <tr>\n      <th>date</th>\n      <th></th>\n    </tr>\n  </thead>\n  <tbody>\n    <tr>\n      <th>2013-04-01</th>\n      <td>1562.173837</td>\n    </tr>\n    <tr>\n      <th>2013-04-02</th>\n      <td>1570.252238</td>\n    </tr>\n    <tr>\n      <th>2013-04-03</th>\n      <td>1553.686978</td>\n    </tr>\n    <tr>\n      <th>2013-04-04</th>\n      <td>1559.979316</td>\n    </tr>\n    <tr>\n      <th>2013-04-05</th>\n      <td>1553.278930</td>\n    </tr>\n  </tbody>\n</table>\n</div>"
     },
     "execution_count": 25,
     "metadata": {},
     "output_type": "execute_result"
    }
   ],
   "source": [
    "df.tail()"
   ],
   "metadata": {
    "collapsed": false
   }
  },
  {
   "cell_type": "code",
   "execution_count": 26,
   "outputs": [
    {
     "data": {
      "text/plain": "            market_value\ndate                    \n2013-04-08   1563.071269\n2013-04-09   1568.607909\n2013-04-10   1587.731827\n2013-04-11   1593.369863\n2013-04-12   1588.854623",
      "text/html": "<div>\n<style scoped>\n    .dataframe tbody tr th:only-of-type {\n        vertical-align: middle;\n    }\n\n    .dataframe tbody tr th {\n        vertical-align: top;\n    }\n\n    .dataframe thead th {\n        text-align: right;\n    }\n</style>\n<table border=\"1\" class=\"dataframe\">\n  <thead>\n    <tr style=\"text-align: right;\">\n      <th></th>\n      <th>market_value</th>\n    </tr>\n    <tr>\n      <th>date</th>\n      <th></th>\n    </tr>\n  </thead>\n  <tbody>\n    <tr>\n      <th>2013-04-08</th>\n      <td>1563.071269</td>\n    </tr>\n    <tr>\n      <th>2013-04-09</th>\n      <td>1568.607909</td>\n    </tr>\n    <tr>\n      <th>2013-04-10</th>\n      <td>1587.731827</td>\n    </tr>\n    <tr>\n      <th>2013-04-11</th>\n      <td>1593.369863</td>\n    </tr>\n    <tr>\n      <th>2013-04-12</th>\n      <td>1588.854623</td>\n    </tr>\n  </tbody>\n</table>\n</div>"
     },
     "execution_count": 26,
     "metadata": {},
     "output_type": "execute_result"
    }
   ],
   "source": [
    "df_test.head()"
   ],
   "metadata": {
    "collapsed": false
   }
  },
  {
   "cell_type": "code",
   "execution_count": null,
   "outputs": [],
   "source": [],
   "metadata": {
    "collapsed": false
   }
  }
 ],
 "metadata": {
  "kernelspec": {
   "display_name": "Python 3",
   "language": "python",
   "name": "python3"
  },
  "language_info": {
   "codemirror_mode": {
    "name": "ipython",
    "version": 2
   },
   "file_extension": ".py",
   "mimetype": "text/x-python",
   "name": "python",
   "nbconvert_exporter": "python",
   "pygments_lexer": "ipython2",
   "version": "2.7.6"
  }
 },
 "nbformat": 4,
 "nbformat_minor": 0
}
