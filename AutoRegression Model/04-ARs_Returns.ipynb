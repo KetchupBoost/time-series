{
 "cells": [
  {
   "cell_type": "code",
   "execution_count": 5,
   "outputs": [],
   "source": [
    "import pandas as pd\n",
    "import numpy as np\n",
    "import seaborn as sns\n",
    "import matplotlib.pyplot as plt\n",
    "import statsmodels.graphics.tsaplots as stats_graph_tsa\n",
    "import statsmodels.tsa.stattools as stat_tsa_stats\n",
    "import statsmodels.api as sm\n",
    "from statsmodels.tsa.arima.model import ARIMA\n",
    "from pandas_datareader import data as wb\n",
    "from scipy.stats.distributions import chi2\n",
    "from datetime import datetime\n",
    "\n",
    "sns.set()"
   ],
   "metadata": {
    "collapsed": false
   }
  },
  {
   "cell_type": "markdown",
   "source": [
    "**Treating Data**"
   ],
   "metadata": {
    "collapsed": false
   }
  },
  {
   "cell_type": "code",
   "execution_count": 9,
   "outputs": [
    {
     "name": "stderr",
     "output_type": "stream",
     "text": [
      "C:\\Users\\Yago\\AppData\\Local\\Temp\\ipykernel_21928\\378421315.py:16: SettingWithCopyWarning: \n",
      "A value is trying to be set on a copy of a slice from a DataFrame.\n",
      "Try using .loc[row_indexer,col_indexer] = value instead\n",
      "\n",
      "See the caveats in the documentation: https://pandas.pydata.org/pandas-docs/stable/user_guide/indexing.html#returning-a-view-versus-a-copy\n",
      "  df['returns'] = df.market_value.pct_change(1).mul(100)\n"
     ]
    }
   ],
   "source": [
    "raw_csv_data = pd.read_csv('../01 - Intro/IndexE8.csv')\n",
    "df_complete = raw_csv_data.copy()\n",
    "df_complete['market_value'] = df_complete.ftse\n",
    "df_complete.date = pd.to_datetime(df_complete.date, dayfirst = True)\n",
    "df_complete.date = df_complete.set_index('date', inplace = True)\n",
    "df_complete = df_complete.asfreq('b')\n",
    "df_complete = df_complete.fillna(method = 'ffill')\n",
    "del df_complete['dax']\n",
    "del df_complete['ftse']\n",
    "del df_complete['nikkei']\n",
    "del df_complete['spx']\n",
    "size = int(len(df_complete) * 0.8)\n",
    "df, df_test = df_complete.iloc[:size], df_complete.iloc[size:]\n",
    "\n",
    "''' Defining the return column '''\n",
    "df['returns'] = df.market_value.pct_change(1).mul(100)\n",
    "df = df.iloc[1:]"
   ],
   "metadata": {
    "collapsed": false
   }
  },
  {
   "cell_type": "markdown",
   "source": [
    "**AR(1) Simple for Return**"
   ],
   "metadata": {
    "collapsed": false
   }
  },
  {
   "cell_type": "code",
   "execution_count": 11,
   "outputs": [
    {
     "data": {
      "text/plain": "<class 'statsmodels.iolib.summary.Summary'>\n\"\"\"\n                               SARIMAX Results                                \n==============================================================================\nDep. Variable:                returns   No. Observations:                 5020\nModel:                 ARIMA(1, 0, 0)   Log Likelihood               -7929.749\nDate:                Fri, 02 Dec 2022   AIC                          15865.497\nTime:                        12:31:24   BIC                          15885.061\nSample:                    01-10-1994   HQIC                         15872.353\n                         - 04-05-2013                                         \nCovariance Type:                  opg                                         \n==============================================================================\n                 coef    std err          z      P>|z|      [0.025      0.975]\n------------------------------------------------------------------------------\nconst          0.0188      0.016      1.143      0.253      -0.013       0.051\nar.L1         -0.0230      0.009     -2.697      0.007      -0.040      -0.006\nsigma2         1.3790      0.014    100.092      0.000       1.352       1.406\n===================================================================================\nLjung-Box (L1) (Q):                   0.01   Jarque-Bera (JB):              7872.72\nProb(Q):                              0.93   Prob(JB):                         0.00\nHeteroskedasticity (H):               2.04   Skew:                            -0.03\nProb(H) (two-sided):                  0.00   Kurtosis:                         9.13\n===================================================================================\n\nWarnings:\n[1] Covariance matrix calculated using the outer product of gradients (complex-step).\n\"\"\"",
      "text/html": "<table class=\"simpletable\">\n<caption>SARIMAX Results</caption>\n<tr>\n  <th>Dep. Variable:</th>        <td>returns</td>     <th>  No. Observations:  </th>   <td>5020</td>   \n</tr>\n<tr>\n  <th>Model:</th>            <td>ARIMA(1, 0, 0)</td>  <th>  Log Likelihood     </th> <td>-7929.749</td>\n</tr>\n<tr>\n  <th>Date:</th>            <td>Fri, 02 Dec 2022</td> <th>  AIC                </th> <td>15865.497</td>\n</tr>\n<tr>\n  <th>Time:</th>                <td>12:31:24</td>     <th>  BIC                </th> <td>15885.061</td>\n</tr>\n<tr>\n  <th>Sample:</th>             <td>01-10-1994</td>    <th>  HQIC               </th> <td>15872.353</td>\n</tr>\n<tr>\n  <th></th>                   <td>- 04-05-2013</td>   <th>                     </th>     <td> </td>    \n</tr>\n<tr>\n  <th>Covariance Type:</th>        <td>opg</td>       <th>                     </th>     <td> </td>    \n</tr>\n</table>\n<table class=\"simpletable\">\n<tr>\n     <td></td>       <th>coef</th>     <th>std err</th>      <th>z</th>      <th>P>|z|</th>  <th>[0.025</th>    <th>0.975]</th>  \n</tr>\n<tr>\n  <th>const</th>  <td>    0.0188</td> <td>    0.016</td> <td>    1.143</td> <td> 0.253</td> <td>   -0.013</td> <td>    0.051</td>\n</tr>\n<tr>\n  <th>ar.L1</th>  <td>   -0.0230</td> <td>    0.009</td> <td>   -2.697</td> <td> 0.007</td> <td>   -0.040</td> <td>   -0.006</td>\n</tr>\n<tr>\n  <th>sigma2</th> <td>    1.3790</td> <td>    0.014</td> <td>  100.092</td> <td> 0.000</td> <td>    1.352</td> <td>    1.406</td>\n</tr>\n</table>\n<table class=\"simpletable\">\n<tr>\n  <th>Ljung-Box (L1) (Q):</th>     <td>0.01</td> <th>  Jarque-Bera (JB):  </th> <td>7872.72</td>\n</tr>\n<tr>\n  <th>Prob(Q):</th>                <td>0.93</td> <th>  Prob(JB):          </th>  <td>0.00</td>  \n</tr>\n<tr>\n  <th>Heteroskedasticity (H):</th> <td>2.04</td> <th>  Skew:              </th>  <td>-0.03</td> \n</tr>\n<tr>\n  <th>Prob(H) (two-sided):</th>    <td>0.00</td> <th>  Kurtosis:          </th>  <td>9.13</td>  \n</tr>\n</table><br/><br/>Warnings:<br/>[1] Covariance matrix calculated using the outer product of gradients (complex-step)."
     },
     "execution_count": 11,
     "metadata": {},
     "output_type": "execute_result"
    }
   ],
   "source": [
    "mod_return_ar_1 = ARIMA(df.returns, order = (1, 0, 0))\n",
    "res_return_ar_1 = mod_return_ar_1.fit()\n",
    "res_return_ar_1.summary()"
   ],
   "metadata": {
    "collapsed": false
   }
  },
  {
   "cell_type": "code",
   "execution_count": null,
   "outputs": [],
   "source": [],
   "metadata": {
    "collapsed": false
   }
  }
 ],
 "metadata": {
  "kernelspec": {
   "display_name": "Python 3",
   "language": "python",
   "name": "python3"
  },
  "language_info": {
   "codemirror_mode": {
    "name": "ipython",
    "version": 2
   },
   "file_extension": ".py",
   "mimetype": "text/x-python",
   "name": "python",
   "nbconvert_exporter": "python",
   "pygments_lexer": "ipython2",
   "version": "2.7.6"
  }
 },
 "nbformat": 4,
 "nbformat_minor": 0
}
